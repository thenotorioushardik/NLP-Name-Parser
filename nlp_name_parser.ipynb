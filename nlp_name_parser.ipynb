{
 "cells": [
  {
   "cell_type": "code",
   "execution_count": 17,
   "metadata": {},
   "outputs": [],
   "source": [
    "import spacy\n",
    "import pandas as pd\n",
    "import swifter\n",
    "import re\n",
    "import warnings\n",
    "warnings.simplefilter(\"ignore\", category=FutureWarning)\n",
    "\n",
    "nlp = spacy.load(\"en_core_web_trf\")"
   ]
  },
  {
   "cell_type": "code",
   "execution_count": 19,
   "metadata": {},
   "outputs": [],
   "source": [
    "\n",
    "def preprocess_name(name):\n",
    "    name = re.sub(r\"(\\b\\w+)\\.(?=\\w)\", r\"\\1. \", name)  # Add space after honorifics\n",
    "    return name\n",
    "\n",
    "def clean_name(name):\n",
    "    if not isinstance(name, str) or not name.strip():\n",
    "        return \"\", \"\"\n",
    "\n",
    "    name = preprocess_name(name)\n",
    "    doc = nlp(name)\n",
    "\n",
    "    name_parts = [token.text for token in doc if token.ent_type_ == \"PERSON\" or token.pos_ == \"PROPN\"]\n",
    "\n",
    "    # Remove honorifics if they appear as separate words\n",
    "    name_parts = [part for part in name_parts if part.lower() not in HONORIFICS_WITH_DOTS]\n",
    "\n",
    "    first_name = re.sub(r'^[^A-Za-z]+|[^A-Za-z]+$', '', name_parts[0]).capitalize() if name_parts else \"\"\n",
    "    last_name = re.sub(r'^[^A-Za-z]+|[^A-Za-z]+$', '', name_parts[-1]).capitalize() if len(name_parts) > 1 else \"\"\n",
    "\n",
    "    return first_name, last_name\n",
    "\n",
    "def process_csv(input_file, output_file):\n",
    "    df = pd.read_csv(input_file, low_memory=False)\n",
    "\n",
    "    df[\"First Name\"], df[\"Last Name\"] = zip(*df[name_column].swifter.apply(clean_name))\n",
    "\n",
    "    df.to_csv(output_file, index=False)"
   ]
  },
  {
   "cell_type": "code",
   "execution_count": null,
   "metadata": {},
   "outputs": [],
   "source": [
    "\n",
    "HONORIFICS = {\n",
    "    \"mr\", \"mrs\", \"ms\", \"miss\", \"mx\", \"dr\", \"prof\", \"sir\", \"madam\", \"lord\", \"lady\", \"dame\", \"shri\", \"sri\", \"smt\", \"jr\", \"sr\", \"ii\", \"iii\", \"iv\", \"v\", \"col\", \"colonel\", \"lt\", \"ltc\", \"ltcol\", \"maj\", \n",
    "    \"cpt\", \"capt\", \"cmdr\", \"sgt\", \"sgtmj\", \"sgtmaj\", \"sergeant\", \"pfc\", \"cpl\", \"wo\", \"brig\", \"gen\", \"adm\", \"fso\", \"rearadm\", \"viceadm\", \"chief\", \"cmd\", \"comdt\", \"aircm\", \"airm\", \"com\", \"bgen\", \"chf\", \n",
    "    \"king\", \"queen\", \"prince\", \"princess\", \"duchess\", \"baroness\", \"earl\", \"viscount\", \"count\", \"countess\", \"marquis\", \"marquess\", \"emperor\", \"empress\", \"pres\", \"gov\", \"sen\", \"rep\", \"mp\", \"mla\", \n",
    "    \"mlc\", \"mep\", \"mayor\", \"amb\", \"consul\", \"md\", \"do\", \"dds\", \"dmd\", \"od\", \"dpt\", \"dnp\", \"psyd\", \"pharmd\", \"mbbs\", \"bhms\", \"bams\", \"bds\", \"dm\", \"chb\", \"frcp\", \"frcs\", \"faafp\", \"facep\", \"facs\", \"fasge\", \n",
    "    \"facc\", \"faan\", \"faanp\", \"frcog\", \"fcohns\", \"fanzca\", \"fca\", \"fccp\", \"fccm\", \"fccs\", \"fcnp\", \"fchc\", \"fcps\", \"frca\", \"jd\", \"esq\", \"llb\", \"llm\", \"lld\", \"bcl\", \"dcl\", \"qc\", \"kc\", \"qcs\", \"mba\", \"bba\", \n",
    "    \"cpa\", \"cfa\", \"cfp\", \"cma\", \"chfc\", \"cia\", \"cisa\", \"cfe\", \"crm\", \"crma\", \"prm\", \"cmt\", \"cfr\", \"cbv\", \"cea\", \"crisc\", \"cgeit\", \"frsa\", \"frm\", \"cmc\", \"cmgr\", \"caia\", \"asa\", \"pe\", \"ce\", \"me\", \"ee\", \"se\", \n",
    "    \"cswp\", \"cissp\", \"cism\", \"pmp\", \"itil\", \"mcsa\", \"mcsd\", \"mct\", \"aws\", \"gcp\", \"azure\", \"oca\", \"ocp\", \"redhat\", \"cspo\", \"sa\", \"safe\", \"cca\", \"ccna\", \"ccnp\", \"ccie\", \"scjp\", \"ocpjp\", \"scp\", \"security\", \n",
    "    \"network\", \"linux\", \"pentest\", \"casp\", \"ceh\", \"chfi\", \"oscp\", \"gsec\", \"gpen\", \"csm\", \"scrum\", \"ccsk\", \"phd\", \"edd\", \"msc\", \"ma\", \"ba\", \"bs\", \"bsc\", \"bfa\", \"mfa\", \"mlis\", \"med\", \"msw\", \"mph\", \"mpp\", \n",
    "    \"mpa\", \"mdiv\", \"thm\", \"mtheol\", \"msed\", \"mres\", \"mpaed\", \"mteach\", \"dsc\", \"dlitt\", \"dlaw\", \"dtech\", \"mphil\", \"bphil\", \"dphil\", \"scd\", \"rn\", \"lpn\", \"rph\", \"rpa\", \"cna\", \"np\", \"cnm\", \"crna\", \"dph\", \n",
    "    \"ot\", \"mot\", \"rd\", \"ld\", \"cns\", \"cph\", \"fnp\", \"agnp\", \"anp\", \"gnp\", \"pmhnp\", \"whnp\", \"acnp\", \"ccht\", \"chs\", \"cht\", \"ccht-a\", \"crrn\", \"cnn\", \"ccrn\", \"chpn\", \"ccn\", \"ctn\", \"cptc\", \"csts\", \"cfle\", \"cctc\", \n",
    "    \"cpnp\", \"nnp\", \"acrn\", \"ahn\", \"ccp\", \"ccs\", \"ccs-p\", \"ccma\", \"rsc\", \"cscs\", \"chm\", \"cgs\", \"pgeo\", \"gisp\", \"aqe\", \"cwem\", \"ciwem\", \"cenv\", \"mcibse\", \"michem\", \"mice\", \"miema\", \"mcsi\", \"mciht\", \"miob\", \n",
    "    \"mrics\", \"mrtpi\", \"mciwm\", \"frsc\", \"fo\", \"atp\", \"cfii\", \"ame\", \"a&p\", \"dp\", \"ssp\", \"dpa\", \"dmr\", \"mni\", \"chmm\", \"cmm\", \"dmm\", \"cms\", \"chop\", \"chc\", \"chsp\", \"cipm\", \"fapm\", \"ceo\", \"deacon\", \"dcn\", \n",
    "    \"pastor\", \"reverend\", \"rev\", \"minister\", \"min\", \"captain\", \"evangelist\", \"preacher\", \"apostle\", \"dj\", \"mc\", \"vfx\", \"gfx\", \"sfx\", \"fx\", \"dga\", \"sag\", \"aftra\", \"ascap\", \"bmi\", \"sesac\", \"nsc\", \n",
    "    \"oscar\", \"grammy\", \"emmy\", \"chfm\", \"chp\", \"fache\", \"fahra\", \"fashra\", \"cchem\", \"cm\", \"cpp\", \"cppa\", \"cspa\", \"cfm\", \"cfmi\", \"crsp\", \"csr\", \"fsp\", \"fsd\", \"hsd\", \"rdh\", \"rpc\", \"dbe\", \"obe\", \"mbe\", \"gbe\", \n",
    "    \"kbe\", \"cbe\", \"ch\", \"pcs\", \"ias\", \"ifs\", \"ips\", \"irs\", \"mpse\", \"pcc\", \"cppc\", \"crnp\", \"admin\", \"architect\", \"aspnccer\", \"associate\", \"cdfatm\", \"cdfom\", \"cdpse\", \"ciampi\", \"cic\", \"cicp\", \"cid\", \"cimic\", \n",
    "    \"cippus\", \"cippuse\", \"clssgb\", \"cmtse\", \"cossasp\", \"cpccts\", \"crcst\", \"crisci\", \"crisp\", \"cssbb\", \"cssgb\", \"cts-d\", \"cts-i\", \"cvpcc\", \"devlp\", \"fnp-c\", \"mba-cpa\", \"pa-c\", \"pmi-acp\", \"psw-c\", \"shrm-cp\", \n",
    "    \"vp-cissp\", \"mbahrm\", \"mba-hr\", \"aic-m\", \"mba-hc\", \"mbaha\", \"mbamha\", \"mdmba\", \"mbec\", \"mboe\", \"mcse\", \"mba-hm\", \"mcj\", \"mbt\", \"mabc\", \"psm\", \"psp\", \"popm\", \"pls\", \"pcip\", \"pfmp\", \"phr\", \"prc\", \"psc\", \n",
    "    \"pmc\", \"pcam\", \"pbc\", \"picq\", \"pga\", \"pgmp\", \"pws\", \"phn\", \"ricp\", \"fsgm\", \"rbsm\", \"rost\", \"rex\", \"rhit\", \"rdn\", \"qssp\", \"rcdd\", \"isr\", \"fma\", \"ohst\", \"rehs\", \"iws\", \"inc\", \"jnr\", \"gsp\", \"rvt\", \"rhia\", \n",
    "    \"edfp\", \"recla\", \"otr-l\", \"erp\", \"fsa\", \"facp\", \"fscp\", \"olp\", \"fmp\", \"iqc\", \"emt-p\", \"itilv\", \"rrp\", \"rix\", \"osp\", \"rde\", \"rrt\", \"frs\", \"otrl\", \"icm\", \"rwcs\", \"rtm\", \"rohr\", \"enz\", \"fpc\", \"rse\", \"rohm\", \n",
    "    \"itpm\", \"mahrd\", \"fcsi\", \"mn-e\", \"erb\", \"qpa\", \"gphr\", \"euw\", \"ess\", \"imh-e\", \"qpfc\", \"rdcs\", \"gms\", \"rfc\", \"oms\", \"rn-bc\", \"regt\", \"fmo\", \"fhm\", \"grp\", \"grcp\", \"rvs\", \"rohn\", \"rem\", \"ilg\", \"jmac\", \"fpa\", \n",
    "    \"chhr\", \"shrm-spc\", \"lcadc\", \"rn-bsn\", \"bcba\", \"msn rn - bc\", \"ms-mgmt\", \"cxa\", \"lcsw\", \"jd/mba\", \"csbb\", \"hrm\", \"cnor\", \"cprw\", \"pharm\", \"cipd\", \"cgfm\", \"cde\", \"ccue\", \"clss-hc\", \"lcsw-r\", \"clcp\", \n",
    "    \"rnbsccm\", \"cota/l\", \"bcgp\", \"rnc-nic\", \"rnc-ob\", \"president\", \"instructor\", \"remember\", \"recruiter\", \"advisor\", \"director\", \"relations\", \"trading\", \"manager\", \"program\", \"operation\", \"association\", \n",
    "    \"hospital\", \"sphr\", \"accounting\", \"shrm\", \"veteran\", \"executive\", \"ssm\", \"experience\", \"constant\", \"fitness\", \"center\", \"centre\", \"summit\", \"expert\", \"market\", \"health\", \"spsc\", \"phrca\", \n",
    "    \"certified\", \"consultant\", \"effective\", \"medical\", \"device\", \"supervisor\", \"cism cisa cissp\", \"lssbb\", \"acca\", \"cam\", \"cos\", \"mcc\", \"mcr\", \"cit\", \"osb\", \"arm\", \"ing\", \"rid\", \"rcs\", \"rls\", \"pta\", \"ply\", \n",
    "    \"spc\", \"sgm\", \"asla\", \"nha\", \"cep\", \"clu\", \"flmi\", \"cet\", \"ala\", \"der\", \"ahr\", \"cih\", \"cima\", \"cir\", \"mcp\", \"mcs\", \"mbm\", \"mbcp\", \"mcsm\", \"dvs\", \"dvn\", \"dvm\", \"dtm\", \"dsa\", \"drph\", \"dpm\", \"dmcp\", \"dma\", \n",
    "    \"dhsc\", \"dha\", \"dbia\", \"dba\", \"cyr\", \"cws\", \"cwi\", \"cwe\", \"cwd\", \"cwcm\", \"cui\", \"ctsm\", \"cts\", \"ctrs\", \"ctr\", \"ctp\", \"ctie\", \"ctfa\", \"cte\", \"ctb\", \"cta\", \"csw\", \"cst\", \"css\", \"cspm\", \"csp\", \"csme\", \n",
    "    \"csl\", \"csi\", \"cshm\", \"csee\", \"cscp\", \"crx\", \"crs\", \"crps\", \"crpc\", \"crp\", \"crme\", \"crl\", \"crfp\", \"crcr\", \"crcm\", \"crc\", \"crb\", \"cqe\", \"cqa\", \"cpsm\", \"cps\", \"cprs\", \"cprp\", \"cprm\", \"cppo\", \"cppm\", \n",
    "    \"cpo\", \"cpmr\", \"cpmm\", \"cpma\", \"cpm\", \"cpim\", \"cpia\", \"cpht\", \"cpfs\", \"cpfo\", \"cpe\", \"cpdw\", \"cpcu\", \"cpc\", \"cnp\", \"cnmt\", \"cmte\", \"cmsp\", \"cmrp\", \"cmps\", \"cmp\", \"cmlt\", \"cmip\", \"cmhs\", \"cmfc\", \"cme\", \n",
    "    \"cmca\", \"cmb\", \"cltd\", \"cltc\", \"clpm\", \"clp\", \"clm\", \"clcs\", \"citp\", \"cisr\", \"ciso\", \"cis\", \"chtm\", \"chst\", \"chrm\", \"chpa\", \"chg\", \"chfp\", \"chdm\", \"chcp\", \"cgsp\", \"cgcs\", \"cgc\", \"cfsp\", \"cfs\", \"cfps\", \n",
    "    \"cfi\", \"cfer\", \"cfd\", \"cfcm\", \"ces\", \"cem\", \"cec\", \"cebs\", \"cdt\", \"cds\", \"cdr\", \"cdpe\", \"cdp\", \"cdmp\", \"cdm\", \"cdip\", \"cdia\", \"cdfa\", \"cdbc\", \"ccxp\", \"ccwp\", \"ccte\", \"ccsp\", \"ccsm\", \"ccsl\", \"ccrp\", \n",
    "    \"ccrm\", \"ccra\", \"ccpm\", \"ccoa\", \"ccm\", \"ccim\", \"cchp\", \"ccda\", \"cbp\", \"cbet\", \"cbcp\", \"cbap\", \"cba\", \"caps\", \"capp\", \"capm\", \"capb\", \"capa\", \"cap\", \"cao\", \"canl\", \"cams\", \"cafs\", \"cadc\", \"awet\", \"awe\", \n",
    "    \"aud\", \"auci\", \"auch\", \"atc\", \"asp\", \"asis\", \"asid\", \"ashm\", \"ash\", \"ascp\", \"arx\", \"ark\", \"ari\", \"arb\", \"aprn\", \"apn\", \"aphr\", \"aos\", \"anh\", \"amo\", \"amft\", \"alst\", \"alc\", \"alba\", \"ais\", \"airc\", \"ains\", \n",
    "    \"aim\", \"aifd\", \"aifa\", \"aif\", \"aicp\", \"aic\", \"aia\", \"aft\", \"adr\", \"acsw\", \"acs\", \"acra\", \"acma\", \"ace\", \"aca\", \"abv\", \"abt\", \"absi\", \"aas\", \"eit\", \"pahm\"\n",
    "}\n",
    "\n",
    "HONORIFICS_WITH_DOTS = HONORIFICS | {h + \".\" for h in HONORIFICS}"
   ]
  },
  {
   "cell_type": "code",
   "execution_count": null,
   "metadata": {},
   "outputs": [],
   "source": [
    "\n",
    "name_column = \"<ENTER COLUMN NAME>\"\n",
    "\n",
    "input_csv = \"<ENTER FILE NAME>\"\n",
    "output_csv = \"output.csv\"\n",
    "\n",
    "process_csv(input_csv, output_csv)"
   ]
  }
 ],
 "metadata": {
  "kernelspec": {
   "display_name": "base",
   "language": "python",
   "name": "python3"
  },
  "language_info": {
   "codemirror_mode": {
    "name": "ipython",
    "version": 3
   },
   "file_extension": ".py",
   "mimetype": "text/x-python",
   "name": "python",
   "nbconvert_exporter": "python",
   "pygments_lexer": "ipython3",
   "version": "3.9.13"
  }
 },
 "nbformat": 4,
 "nbformat_minor": 2
}
